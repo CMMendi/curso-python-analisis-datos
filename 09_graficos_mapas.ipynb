{
 "cells": [
  {
   "cell_type": "markdown",
   "metadata": {},
   "source": [
    "# Gráficos geoespaciales: mapas\n",
    "\n",
    "Habitualmente necesitamos pintar datos que tienen una referencia geoespacial, por ejemplo:\n",
    "\n",
    "* Puntos en mapas\n",
    "* Rutas\n",
    "* Estados, provincias, países u otras divisiones administrativas de territorios\n",
    "\n",
    "Para hacerlo, podemos utilizar la librería `folium`, que permite utilizar [`leaflet`](https://leafletjs.com/) dentro de python.\n",
    "\n",
    "Puedes consultar la documentación de folium [aquí](https://python-visualization.github.io/folium/)."
   ]
  },
  {
   "cell_type": "code",
   "execution_count": null,
   "metadata": {},
   "outputs": [],
   "source": [
    "import folium\n",
    "import pandas as pd"
   ]
  },
  {
   "cell_type": "markdown",
   "metadata": {},
   "source": [
    "Si te falla el `import folium` es que no tienes la librería instalada. Para hacerlo, corre desde tu terminal:\n",
    "\n",
    "```\n",
    "# si usas conda (gestor de paquetes de Anaconda)\n",
    "conda install -c conda-forge folium\n",
    "\n",
    "# si usas pip\n",
    "pip install folium\n",
    "```\n",
    "\n",
    "Una vez lo instalas, tendrás que reiniciar el kernel de jupyter antes de volver a probar. Puedes hacerlo desde este notebook en el menú Kernel / Restart."
   ]
  },
  {
   "cell_type": "markdown",
   "metadata": {},
   "source": [
    "## Un primer mapa\n",
    "\n",
    "Para pintar un mapa, llamamos a folium con las opciones que queramos. Por ejemplo, vamos a pintar un mapa de la zona de República Argentina, Madrid"
   ]
  },
  {
   "cell_type": "code",
   "execution_count": null,
   "metadata": {
    "scrolled": true
   },
   "outputs": [],
   "source": [
    "rep_argentina = [40.4438, -3.6857]\n",
    "folium.Map(location=rep_argentina, zoom_start=15)"
   ]
  },
  {
   "cell_type": "markdown",
   "metadata": {},
   "source": [
    "Las imágenes de las calles, el mapa base, se denominan `tiles`. Podemos personalizarlo con el parámetro `tiles`. Uno que suele quedar bastante bien para pintar datos encima es `cartodbpositron`:"
   ]
  },
  {
   "cell_type": "code",
   "execution_count": null,
   "metadata": {
    "scrolled": true
   },
   "outputs": [],
   "source": [
    "folium.Map(location=rep_argentina, zoom_start=15, tiles='cartodbpositron')"
   ]
  },
  {
   "cell_type": "markdown",
   "metadata": {},
   "source": [
    "## Marcadores\n",
    "\n",
    "Para añadir una localización, añadimos uno o varios marcadores al mapa. Sobre ellos, podemos personalizar:\n",
    "\n",
    "* Localización\n",
    "* Textos en tooltip o popup\n",
    "* Estilo (forma, color, ...)\n",
    "\n",
    "Mira más opciones en la [documentación](https://python-visualization.github.io/folium/modules.html#folium.map.Marker)."
   ]
  },
  {
   "cell_type": "code",
   "execution_count": null,
   "metadata": {},
   "outputs": [],
   "source": [
    "rep_argentina = [40.446, -3.68]\n",
    "m = folium.Map(location=rep_argentina, zoom_start=15)\n",
    "folium.Marker([40.4438, -3.6857], tooltip='EAE Joaquín Costa').add_to(m)\n",
    "folium.Marker([40.4485,-3.6796], tooltip='EAE Príncipe de Vergada').add_to(m)\n",
    "m"
   ]
  },
  {
   "cell_type": "markdown",
   "metadata": {},
   "source": [
    "Vamos a añadir una serie de localizaciones a nuestro mapa. En `dat/` tenemos disponibles las localizaciones de los apartamentos de AirBnB en Madrid, descargados de [Inside AirBnB](http://insideairbnb.com/)."
   ]
  },
  {
   "cell_type": "code",
   "execution_count": null,
   "metadata": {},
   "outputs": [],
   "source": [
    "listings = pd.read_csv('dat/listings.csv')\n",
    "listings.head()"
   ]
  },
  {
   "cell_type": "code",
   "execution_count": null,
   "metadata": {},
   "outputs": [],
   "source": [
    "# Mi mapa base sobre Madrid\n",
    "map_madrid = folium.Map(location=[40.42, -3.7], zoom_start=13)\n",
    "\n",
    "# Cojo 100 apartamentos (la muestra completa es muy grande)\n",
    "listings_sample = listings.sample(100, random_state=1234)\n",
    "\n",
    "# Los añado a mi mapa\n",
    "# Voy a usar CircleMarker en lugar de Marker, porque me deja personalizar el color más fácilmente\n",
    "listings_sample.apply(\n",
    "    lambda row: folium.CircleMarker([row.latitude, row.longitude], tooltip=row.room_type, radius=3).add_to(map_madrid),\n",
    "    axis=1\n",
    ")\n",
    "map_madrid"
   ]
  },
  {
   "cell_type": "markdown",
   "metadata": {},
   "source": [
    "#### Ejercicio\n",
    "\n",
    "Personaliza el mapa anterior para que el color del marcador diferencie por `room_type`."
   ]
  },
  {
   "cell_type": "code",
   "execution_count": null,
   "metadata": {},
   "outputs": [],
   "source": []
  },
  {
   "cell_type": "markdown",
   "metadata": {},
   "source": [
    "## Heatmaps\n",
    "\n",
    "Son útiles para representar densidades.\n",
    "\n",
    "Vamos a utilizarlo para ver cuál es la concentración de apartamentos por zona.\n",
    "\n",
    "Si consultamos la [documentación](https://python-visualization.github.io/folium/plugins.html#folium.plugins.HeatMap), vemos que necesita un parámetro `data` que debe ser una lista de `[lat, lng]`, pero también acepta un dataframe de pandas con 2 columnas."
   ]
  },
  {
   "cell_type": "code",
   "execution_count": null,
   "metadata": {},
   "outputs": [],
   "source": [
    "from folium.plugins import HeatMap"
   ]
  },
  {
   "cell_type": "code",
   "execution_count": null,
   "metadata": {},
   "outputs": [],
   "source": [
    "m = folium.Map(location=[40.42, -3.7], zoom_start=11, tiles='cartodbpositron')\n",
    "heatmap = HeatMap(data=listings[[\"latitude\", \"longitude\"]], radius=15).add_to(m)\n",
    "m"
   ]
  },
  {
   "cell_type": "markdown",
   "metadata": {},
   "source": [
    "## Mapa de coropletas\n",
    "\n",
    "Son mapas sobre los que coloreamos las regiones que contiene en base a la propiedad que queremos explicar.\n",
    "\n",
    "Vamos a pintar un mapa que represente el precio medio de los alojamientos de cada barrio."
   ]
  },
  {
   "cell_type": "code",
   "execution_count": null,
   "metadata": {},
   "outputs": [],
   "source": [
    "num_per_area = listings.groupby('neighbourhood').id.count().reset_index()\n",
    "num_per_area = num_per_area.rename(columns={\"id\": \"num\"})\n",
    "num_per_area.head()"
   ]
  },
  {
   "cell_type": "code",
   "execution_count": null,
   "metadata": {},
   "outputs": [],
   "source": [
    "# Incializamos el mapa\n",
    "m = folium.Map(location=[40.42, -3.7], zoom_start=11, tiles='cartodbpositron')\n",
    "\n",
    "# Add the color for the chloropleth:\n",
    "folium.Choropleth(\n",
    "    geo_data='dat/neighbourhoods.geojson',\n",
    "    data=num_per_area,\n",
    "    columns=['neighbourhood', 'num'],\n",
    "    key_on='feature.properties.neighbourhood',\n",
    "    fill_color='YlGn'\n",
    ").add_to(m)\n",
    "\n",
    "m"
   ]
  },
  {
   "cell_type": "markdown",
   "metadata": {},
   "source": [
    "#### Ejercicio\n",
    "\n",
    "Modifica el mapa anterior para definir los límites de cada color y ver mejor el detalle. P.e. para que de 0 a 10 se vea en una intensidad, de 10 a 100 en otra, de 100 a 1000, ... (es decir, una escala logarítmica)"
   ]
  },
  {
   "cell_type": "code",
   "execution_count": null,
   "metadata": {},
   "outputs": [],
   "source": []
  }
 ],
 "metadata": {
  "kernelspec": {
   "display_name": "libropython",
   "language": "python",
   "name": "libropython"
  },
  "language_info": {
   "codemirror_mode": {
    "name": "ipython",
    "version": 3
   },
   "file_extension": ".py",
   "mimetype": "text/x-python",
   "name": "python",
   "nbconvert_exporter": "python",
   "pygments_lexer": "ipython3",
   "version": "3.7.3"
  }
 },
 "nbformat": 4,
 "nbformat_minor": 2
}
