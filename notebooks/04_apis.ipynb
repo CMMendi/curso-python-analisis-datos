{
 "cells": [
  {
   "cell_type": "markdown",
   "metadata": {},
   "source": [
    "# Introducción a las APIs\n",
    "\n",
    "Las [APIs](https://en.wikipedia.org/wiki/Application_programming_interface) (Application Programming Interface) se utilizan de manera habitual para acceder a datos, servicios o facilitar la comunicación entre programas.\n",
    "\n",
    "Son muy útiles en los siguientes casos:\n",
    "\n",
    "* Los datos cambian rápidamente. Por ejemplo, predicciones metereológicas a corto plazo, o el estado actual de la bolsa. En estos casos, no tiene sentido tener un dataset estático que regenerar continuamente.\n",
    "* Necesitamos una parte pequeña de un dataset mucho más grande. Por ejemplo, vamos a analizar los tweets de una determinada cuenta. Sería innecesariamente costo tener que descargarse la base de datos de Twitter completa para consultar un subconjunto muy pequeño.\n",
    "* Para consumir un servicio especializado. Por ejemplo, la geocodificación inversa (consiste en un servicio al que le pasas una latitud y longitud y te devuelve la dirección, ciudad, país, ... en la que se encuentra. Para hacerlo por nosotros mismos, necesitaríamos una base geolocalizada global.\n"
   ]
  },
  {
   "cell_type": "markdown",
   "metadata": {},
   "source": [
    "![](images/api_vs_website.gif)"
   ]
  },
  {
   "cell_type": "markdown",
   "metadata": {},
   "source": [
    "En realidad, su uso es muy parecido a la consulta de un sitio web desde un explorador. Tanto la API como el sitio web residen en un servidor web remoto (normalmente, accesible desde internet) y contestan a las peticiones que hacen los clientes. La gran diferencia reside, principalmente, en el formato de la respuesta:\n",
    "\n",
    "* Al consultar un sitio web, el resultado se devuelve para que sea interpretable por humanos. Suele estar formado por HTML que el explorador renderiza para nosotros.\n",
    "* Al consultar una API, el resultado se devuelve en una forma estructurada para que sea interpretable por otro programa. El formato más habitual es el [JSON](https://en.wikipedia.org/wiki/JSON), aunque existen otros.\n",
    "\n",
    "Un ejemplo de JSON:"
   ]
  },
  {
   "cell_type": "markdown",
   "metadata": {},
   "source": [
    "![](images/json.png)"
   ]
  },
  {
   "cell_type": "markdown",
   "metadata": {},
   "source": [
    "## Peticiones a APIs\n",
    "\n",
    "Vamos a hacer una petición a una API. Para ello, necesitamos saber:\n",
    "\n",
    "* El endpoint (url)\n",
    "* Si necesita parámetros, cuáles son, y dónde se colocan (en el query string o en el cuerpo de la petición)\n",
    "\n",
    "Un ejemplo de petición a una API que no necesita parámetros"
   ]
  },
  {
   "cell_type": "code",
   "execution_count": null,
   "metadata": {},
   "outputs": [],
   "source": [
    "import requests"
   ]
  },
  {
   "cell_type": "code",
   "execution_count": null,
   "metadata": {},
   "outputs": [],
   "source": [
    "response = requests.get('https://api.exchangeratesapi.io/latest')"
   ]
  },
  {
   "cell_type": "code",
   "execution_count": null,
   "metadata": {},
   "outputs": [],
   "source": [
    "# Código de estado: 200 indica OK\n",
    "\n",
    "response.status_code"
   ]
  },
  {
   "cell_type": "code",
   "execution_count": null,
   "metadata": {},
   "outputs": [],
   "source": [
    "# Cabeceras: dan información sobre el servidor, el formato de la respuesta, ...\n",
    "\n",
    "response.headers"
   ]
  },
  {
   "cell_type": "code",
   "execution_count": null,
   "metadata": {},
   "outputs": [],
   "source": [
    "# Los datos de respuesta, en JSON\n",
    "\n",
    "response_data = response.json()\n",
    "response_data"
   ]
  },
  {
   "cell_type": "markdown",
   "metadata": {},
   "source": [
    "La librería parsea el JSON de respuesta automáticamente a una lista de diccionarios (con las anidaciones correspondientes. P.e. podemos extraer campos concretos de esta forma:"
   ]
  },
  {
   "cell_type": "code",
   "execution_count": null,
   "metadata": {},
   "outputs": [],
   "source": [
    "response_data['base']"
   ]
  },
  {
   "cell_type": "code",
   "execution_count": null,
   "metadata": {},
   "outputs": [],
   "source": [
    "response_data['rates']['AUD']"
   ]
  },
  {
   "cell_type": "code",
   "execution_count": null,
   "metadata": {},
   "outputs": [],
   "source": [
    "response_data['rates']['USD']"
   ]
  },
  {
   "cell_type": "markdown",
   "metadata": {},
   "source": [
    "## Códigos de respuesta\n",
    "\n",
    "El _status code_ nos indica si ha ido bien o no la petición. Además, en caso de error, nos da información sobre la causa de este. Los más utilizados son:\n",
    "\n",
    "* 200: la petición ha ido bien\n",
    "* 301: el servidor está redireccionando la petición a otro\n",
    "* 401: error de autenticación\n",
    "* 400: la petición es incorrecta (p.e. porque falta algún parámetro o están mal formados)\n",
    "* 403: prohibido, no tienes permisos suficientes\n",
    "* 404: el recurso consultado no existe\n",
    "* 500: el servidor ha dado un error inesperado\n",
    "\n",
    "Puedes ver la lista completa [aquí](https://en.wikipedia.org/wiki/List_of_HTTP_status_codes)"
   ]
  },
  {
   "cell_type": "markdown",
   "metadata": {},
   "source": [
    "## Verbos\n",
    "\n",
    "Las peticiones a las APIs usan verbos. En el ejemplo de antes, hemos utilizado `GET`. Además, este verbo es el que se usa por defecto a través del explorador.\n",
    "\n",
    "Los más comunes y el uso que se les suele dar son:\n",
    "\n",
    "* GET: para consulta\n",
    "* POST: para insertar un nuevo dato o disparar una acción\n",
    "* PUT: para actualizar un registro\n",
    "* DELETE: para eliminar un registro"
   ]
  },
  {
   "cell_type": "markdown",
   "metadata": {},
   "source": [
    "## Parámetros\n",
    "\n",
    "Los parámetros que incluimos en la petición pueden ir de formas diversas:\n",
    "\n",
    "* Como parte de la URL. P.e. `https://api.exchangeratesapi.io/2010-04-01`\n",
    "* Como parte del query string. La URL y su query string se separan con el símbolo `?`, y tienen la forma `clave=valor`. P.e. `https://api.exchangeratesapi.io/latest?base=USD`. Este es el lugar habitual de los parámetros en las peticiones `GET`.\n",
    "* En el cuerpo de la petición. Es el lugar habitual de los parámetros en las peticiones `POST` y `PUT`.\n",
    "\n",
    "Un ejemplo de petición `POST` con parámetros en el cuerpo de la petición:"
   ]
  },
  {
   "cell_type": "code",
   "execution_count": null,
   "metadata": {},
   "outputs": [],
   "source": [
    "response = requests.post('https://httpbin.org/post', data={'clave': 'valor'})\n",
    "response.json()"
   ]
  },
  {
   "cell_type": "markdown",
   "metadata": {},
   "source": [
    "Un ejemplo similar, pero enviando los parámetros en el cuerpo de la petición __en formato JSON__:"
   ]
  },
  {
   "cell_type": "code",
   "execution_count": null,
   "metadata": {},
   "outputs": [],
   "source": [
    "response = requests.post('https://httpbin.org/post', json={'clave': 'valor'})\n",
    "response.json()"
   ]
  },
  {
   "cell_type": "markdown",
   "metadata": {},
   "source": [
    "### Ejercicio\n",
    "\n",
    "Investiga en la documentación de la librería [requests](http://www.python-requests.org/en/latest/) cómo pasar parámetros en el query string. También consulta la documentación de la API [exchangeratesapi](https://exchangeratesapi.io/).\n",
    "\n",
    "Con esta información, extrae el valor actual de la conversión de la libra esterlina `GBP` al resto de monedas.\n",
    "\n",
    "*Nota*: hazlo sin poner manualmente el query string en la URL"
   ]
  },
  {
   "cell_type": "code",
   "execution_count": null,
   "metadata": {},
   "outputs": [],
   "source": []
  },
  {
   "cell_type": "markdown",
   "metadata": {},
   "source": [
    "### Ejercicio\n",
    "\n",
    "También sobre la API de `exchangeratesapi`, consulta el histórico disponible del valor entre dólares americanos y libras entre el 15 de agosto y 15 de septiembre de 2018"
   ]
  },
  {
   "cell_type": "code",
   "execution_count": null,
   "metadata": {},
   "outputs": [],
   "source": []
  },
  {
   "cell_type": "markdown",
   "metadata": {},
   "source": [
    "### Ejercicio\n",
    "\n",
    "Consulta la documentación de estas dos APIs:\n",
    "\n",
    "* [Nominatim - reverse geocoding](http://wiki.openstreetmap.org/wiki/Nominatim#Reverse_Geocoding)\n",
    "* [UK Police - crimes at location](https://data.police.uk/docs/method/crimes-at-location)\n",
    "\n",
    "Primero, consulta a la API de Nominatim para conocer cuál es la dirección asociada a estas coordenadas:\n",
    "\n",
    "* Latitud: 51.4965946\n",
    "* Longitud: -0.1436476\n",
    "\n",
    "El resultado debe estar en formato JSON."
   ]
  },
  {
   "cell_type": "code",
   "execution_count": null,
   "metadata": {},
   "outputs": [],
   "source": []
  },
  {
   "cell_type": "markdown",
   "metadata": {},
   "source": [
    "Luego, consulta a la API de la policía de UK los crímenes que se cometieron en esa localización en julio de 2018"
   ]
  },
  {
   "cell_type": "code",
   "execution_count": null,
   "metadata": {},
   "outputs": [],
   "source": []
  },
  {
   "cell_type": "markdown",
   "metadata": {},
   "source": [
    "## Ejercicios con la API de citybik\n",
    "\n",
    "Consulta la documentación de la API de [citybik](http://api.citybik.es/v2/)."
   ]
  },
  {
   "cell_type": "markdown",
   "metadata": {},
   "source": [
    "### Ejercicio: get_networks\n",
    "\n",
    "Crea una función `get_networks()` que devuelva todas las redes de bicis disponibles"
   ]
  },
  {
   "cell_type": "code",
   "execution_count": null,
   "metadata": {},
   "outputs": [],
   "source": []
  },
  {
   "cell_type": "markdown",
   "metadata": {},
   "source": [
    "### Ejercicio: plot_networks\n",
    "\n",
    "Crea una función `plot_networks()` que pinte en un mapa todas las redes de bicis disponibles en la localización en la que se encuentran. Además, añade un tooltip con el nombre de la red"
   ]
  },
  {
   "cell_type": "code",
   "execution_count": null,
   "metadata": {},
   "outputs": [],
   "source": []
  },
  {
   "cell_type": "markdown",
   "metadata": {},
   "source": [
    "### Ejercicio: get_stations\n",
    "\n",
    "Crea una función `get_stations(network_id)` que:\n",
    "\n",
    "* Acepte un argumento `network_id` con el identificador de la red. P.e. podría tomar el valor `bicimad`, `bicing`, `velib`, ...\n",
    "* Devuelva una lista con las estaciones (y su información) de la red especificada\n",
    "\n",
    "_Nota_: puedes concatenar cadenas de texto con `+`. P.e.: `'hola' + ' mundo'`"
   ]
  },
  {
   "cell_type": "code",
   "execution_count": null,
   "metadata": {},
   "outputs": [],
   "source": []
  },
  {
   "cell_type": "markdown",
   "metadata": {},
   "source": [
    "### Ejercicio: get_stations con control de error\n",
    "\n",
    "Modifica la función `get_stations(network_id)` para que, si introduces una red que no existe, devuelva una lista vacía en lugar de un error no controlado."
   ]
  },
  {
   "cell_type": "code",
   "execution_count": null,
   "metadata": {},
   "outputs": [],
   "source": []
  },
  {
   "cell_type": "markdown",
   "metadata": {},
   "source": [
    "### Ejercicio: get_stations con parámetros opcionales\n",
    "\n",
    "Modifica la función `get_stations` para que, además del parámetro actual, tenga un parámetro adicional opcional:\n",
    "\n",
    "* `min_free_bikes`: número mínimo de bicis disponibles para coger\n",
    "\n",
    "La función deberá devolver únicamente las estaciones que cumplan la condición pasada en el parámetro. El valor por defecto de este nuevo parámetro es 0."
   ]
  },
  {
   "cell_type": "code",
   "execution_count": null,
   "metadata": {},
   "outputs": [],
   "source": []
  },
  {
   "cell_type": "markdown",
   "metadata": {},
   "source": [
    "### Ejercicio\n",
    "\n",
    "Pinta en un mapa de [folium](http://python-visualization.github.io/folium/quickstart.html) las estaciones de BiciMAD.\n",
    "\n",
    "Opcional:\n",
    "\n",
    "* Pinta el marcador en rojo si hay menos de un 20% de las bicis disponibles en este momento, en naranja si está entre el 20% - 50%, y verde si hay más\n",
    "* Pinta un tooltip con el nombre de la estación"
   ]
  },
  {
   "cell_type": "code",
   "execution_count": null,
   "metadata": {},
   "outputs": [],
   "source": []
  },
  {
   "cell_type": "markdown",
   "metadata": {},
   "source": [
    "## Ejercicio swapi\n",
    "\n",
    "Haz una petición a la API de [swapi](https://swapi.co/documentation) con una búsqueda de todos los personajes que tengan el apellido `skywalker`. Examina la respuesta e imprime los nombres resultantes utilizando una `list comprehension` (no utilices bucles)."
   ]
  },
  {
   "cell_type": "code",
   "execution_count": null,
   "metadata": {},
   "outputs": [],
   "source": []
  },
  {
   "cell_type": "markdown",
   "metadata": {},
   "source": [
    "## Ejercicio libre\n",
    "\n",
    "Revisa [este listado](https://github.com/toddmotto/public-apis) de APIs públicas. Elige alguna que te llame la atención, consulta su documentación y extrae información que sea de tu interés."
   ]
  },
  {
   "cell_type": "code",
   "execution_count": null,
   "metadata": {},
   "outputs": [],
   "source": []
  },
  {
   "cell_type": "markdown",
   "metadata": {},
   "source": [
    "## Referencia\n",
    "\n",
    "* Documentación [requests](http://www.python-requests.org/en/latest/)\n",
    "* Documentación [API citybik](https://api.citybik.es/v2/)\n",
    "* Documentación [folium](http://python-visualization.github.io/folium/quickstart.html)"
   ]
  },
  {
   "cell_type": "code",
   "execution_count": null,
   "metadata": {},
   "outputs": [],
   "source": []
  }
 ],
 "metadata": {
  "kernelspec": {
   "display_name": "libropython",
   "language": "python",
   "name": "libropython"
  },
  "language_info": {
   "codemirror_mode": {
    "name": "ipython",
    "version": 3
   },
   "file_extension": ".py",
   "mimetype": "text/x-python",
   "name": "python",
   "nbconvert_exporter": "python",
   "pygments_lexer": "ipython3",
   "version": "3.7.3"
  }
 },
 "nbformat": 4,
 "nbformat_minor": 2
}
