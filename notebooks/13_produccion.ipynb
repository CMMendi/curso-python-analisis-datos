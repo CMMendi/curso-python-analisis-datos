{
 "cells": [
  {
   "cell_type": "markdown",
   "metadata": {},
   "source": [
    "# Producción\n",
    "\n",
    "Hasta el momento, solo nos hemos preocupado de las fases de exploración y desarrollo. En ellas, prima la interactividad del entorno y el objetivo es que el equipo encargado de esta fase sea lo más productivo posible.\n",
    "\n",
    "A la hora de pasar a producción, cambian las prioridades. Cobran importancia:\n",
    "\n",
    "* Automatización: ya no queremos ni necesitamos interactividad, sino procesos que corran sin intervención humana\n",
    "* Robustez: que los procesos controlen casos extremos para no fallar, y que las partes con probabilidad de fallo (p.e. escritura de fichero, peticiones por internet, scraping, ...) se gestionen correctamente\n",
    "* Logging: generación de trazas del proceso (informativas, de error, ...) para que se puedan consultar como parte de una operativa normal o de error inesperado\n",
    "* Alarmas: en el caso de que algo vaya mal sobre un proceso crítico, debemos tener un mecanismo de aviso\n",
    "* Estabilidad: mientras que en desarrollo podemos actualizar a nuevas versiones del lenguaje o de sus dependencias, en producción el entorno debe ser estable, y ser actualizado únicamente bajo demanda y habiendo comprobado que todo funciona correctamente"
   ]
  },
  {
   "cell_type": "markdown",
   "metadata": {},
   "source": [
    "## Estructura del proyecto\n",
    "\n",
    "Los notebooks de jupyter nos permiten desarrollar en un entorno interactivo. Pero un proyecto final que pasa a producción, seguirá una estructura de módulos (carpetas) estructurada.\n",
    "\n",
    "Una estructura de ejemplo para un proyecto de clasificación de vinos:\n",
    "\n",
    "```\n",
    "|-- wineclassifier/             # Raíz del proyecto (repositorio git)\n",
    "    |-- wineclassifier/\n",
    "        |-- __init__.py         # Requerido al ser un módulo, habitualmente vacío\n",
    "        |-- config.[py|yml]     # Configuración (cadenas de conexión, parametrización del modelo, ...)\n",
    "        |-- model/              # Código relacionado con la generación del modelo\n",
    "            |-- __init__.py\n",
    "            |-- preprocess.py\n",
    "            |-- regression.py   \n",
    "        |-- resources/          # Recursos como queries, ...\n",
    "            |-- __init__py\n",
    "            |-- queries.py\n",
    "        |-- util/               # Útiles, bastante reutilizables entre proyectos: lógica de conexión a BD, ...\n",
    "            |-- __init__py\n",
    "            |-- bd.py\n",
    "            |-- storage.py\n",
    "    |-- requirements.txt        # Dependencias con sus versiones del proyecto\n",
    "    |-- train.py                # Lanza el entrenamiento\n",
    "    |-- predict.py              # Lanza la predicción (batch, levanta API, ...)\n",
    "    |-- README.md               # Instrucciones para lanzar el proyecto y doc importante\n",
    "```"
   ]
  },
  {
   "cell_type": "markdown",
   "metadata": {},
   "source": [
    "## Referencias\n",
    "\n",
    "Más información:\n",
    "\n",
    "* [Gestión excepciones en Python](https://www.datacamp.com/community/tutorials/exception-handling-python)\n",
    "* [Tutorial de logging básico](https://code-maven.com/simple-logging-in-python)\n",
    "* [Tutorial de docker](https://djangostars.com/blog/what-is-docker-and-how-to-use-it-with-python/)\n",
    "* [Tutorial de testing](https://semaphoreci.com/community/tutorials/testing-python-applications-with-pytest)\n",
    "* [CI/CD con GitHub, Travis y más](https://github.com/ksator/continuous-integration-with-python)\n",
    "* [Convertir un modelo de ML en una API](https://www.datacamp.com/community/tutorials/machine-learning-models-api-python)\n",
    "* [Virtual envs con conda](https://uoa-eresearch.github.io/eresearch-cookbook/recipe/2014/11/20/conda/)\n",
    "\n",
    "Ejemplos de proyectos:\n",
    "\n",
    "* [Homemade machine learning](https://github.com/trekhleb/homemade-machine-learning)"
   ]
  },
  {
   "cell_type": "code",
   "execution_count": null,
   "metadata": {},
   "outputs": [],
   "source": []
  }
 ],
 "metadata": {
  "kernelspec": {
   "display_name": "Python 3",
   "language": "python",
   "name": "python3"
  },
  "language_info": {
   "codemirror_mode": {
    "name": "ipython",
    "version": 3
   },
   "file_extension": ".py",
   "mimetype": "text/x-python",
   "name": "python",
   "nbconvert_exporter": "python",
   "pygments_lexer": "ipython3",
   "version": "3.7.2"
  }
 },
 "nbformat": 4,
 "nbformat_minor": 2
}
